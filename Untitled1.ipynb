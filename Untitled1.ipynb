{
  "nbformat": 4,
  "nbformat_minor": 0,
  "metadata": {
    "colab": {
      "name": "Untitled1.ipynb",
      "provenance": [],
      "authorship_tag": "ABX9TyMT9DGiwcZ+Yi0gTRKIO+BL",
      "include_colab_link": true
    },
    "kernelspec": {
      "name": "python3",
      "display_name": "Python 3"
    },
    "language_info": {
      "name": "python"
    }
  },
  "cells": [
    {
      "cell_type": "markdown",
      "metadata": {
        "id": "view-in-github",
        "colab_type": "text"
      },
      "source": [
        "<a href=\"https://colab.research.google.com/github/PSVAmar/Basic-ML/blob/main/Untitled1.ipynb\" target=\"_parent\"><img src=\"https://colab.research.google.com/assets/colab-badge.svg\" alt=\"Open In Colab\"/></a>"
      ]
    },
    {
      "cell_type": "markdown",
      "metadata": {
        "id": "DEJOlmIxDZBo"
      },
      "source": [
        ""
      ]
    },
    {
      "cell_type": "markdown",
      "metadata": {
        "id": "zSy1WllYQk7A"
      },
      "source": [
        "**Write a Python program to get the 4th element and 4th element from \n",
        "last of a tuple bold text**"
      ]
    },
    {
      "cell_type": "markdown",
      "metadata": {
        "id": "3mtpSTzQDk4I"
      },
      "source": [
        "**Algorithm**\n",
        "\n",
        "step1: Read tuple\n",
        "\n",
        "step2:read third character of that string\n",
        "\n",
        "step3:read fourth character from the last \n",
        "\n",
        "step4:stop\n",
        "\n"
      ]
    },
    {
      "cell_type": "code",
      "metadata": {
        "colab": {
          "base_uri": "https://localhost:8080/"
        },
        "id": "H0dgXByxJEDw",
        "outputId": "3f8f9cd5-d902-470d-9c33-a9122c27e6bb"
      },
      "source": [
        "a=input(\"enter a tuple: \")\n",
        "print(\"the first fourth element is\",a[3])\n",
        "print(\"the fourth element from the last is\",a[-4])"
      ],
      "execution_count": 2,
      "outputs": [
        {
          "output_type": "stream",
          "text": [
            "enter a tuple: string\n",
            "the first fourth element is i\n",
            "the fourth element from the last is r\n"
          ],
          "name": "stdout"
        }
      ]
    },
    {
      "cell_type": "markdown",
      "metadata": {
        "id": "AxfHIiLSJ2lX"
      },
      "source": [
        "**Find the minimum and maximum elements in  list**"
      ]
    },
    {
      "cell_type": "markdown",
      "metadata": {
        "id": "Hn0344ChKfRP"
      },
      "source": [
        "**Algorithm**\n",
        "\n",
        "step1:start\n",
        "\n",
        "step 2:arrange elements in ascending order using **sort** function\n",
        "\n",
        "step 3:now take the first element and it is the minimum among all the numbers\n",
        "\n",
        "step 4: now the last element is the maximum of all the numbers\n",
        "\n",
        "step 5: stop"
      ]
    },
    {
      "cell_type": "code",
      "metadata": {
        "colab": {
          "base_uri": "https://localhost:8080/"
        },
        "id": "puKvUUiVLRbG",
        "outputId": "02bb65c4-fd51-47d8-9b8d-3cd46d5a7884"
      },
      "source": [
        "l=[int(x) for x in input().split()]\n",
        "l.sort()\n",
        "print(\"The maximum element among the given list is: \", l[3])\n",
        "print(\"The minimum element among the given list is: \", l[-1])"
      ],
      "execution_count": 5,
      "outputs": [
        {
          "output_type": "stream",
          "text": [
            "1 2 3 4 5 6 7  8 8 9 9 0 \n",
            "The maximum element among the given list is:  3\n",
            "The minimum element among the given list is:  9\n"
          ],
          "name": "stdout"
        }
      ]
    },
    {
      "cell_type": "markdown",
      "metadata": {
        "id": "qCM68Ll1Mdjc"
      },
      "source": [
        "**write a python program to remove nth index character from a non-empty string**"
      ]
    },
    {
      "cell_type": "markdown",
      "metadata": {
        "id": "aK79m_BmM2j4"
      },
      "source": [
        "**Algorithm**\n",
        "\n",
        "step 1:read string,index value\n",
        "\n",
        "step 2:take string from index 0 till before the index value\n",
        "\n",
        "step 3:take string after index value till the last index value\n",
        "\n",
        "step 4:concatenate these two strings to a variable\n",
        "\n",
        "step 5:display variable\n",
        "\n",
        "step 6:stop"
      ]
    },
    {
      "cell_type": "code",
      "metadata": {
        "colab": {
          "base_uri": "https://localhost:8080/"
        },
        "id": "sNy0whUQORn7",
        "outputId": "dfc8ee7c-9c10-44ef-f4e1-98a1c8d04baa"
      },
      "source": [
        "s=input(\"enter a string: \")\n",
        "x=int(input(\"enter index value: \"))\n",
        "b=s[:x]+s[x+1:]\n",
        "print(b)"
      ],
      "execution_count": 6,
      "outputs": [
        {
          "output_type": "stream",
          "text": [
            "enter a string: beautiful\n",
            "enter index value: 6\n",
            "beautiul\n"
          ],
          "name": "stdout"
        }
      ]
    },
    {
      "cell_type": "markdown",
      "metadata": {
        "id": "XU12ENGeKRkL"
      },
      "source": [
        ""
      ]
    }
  ]
}